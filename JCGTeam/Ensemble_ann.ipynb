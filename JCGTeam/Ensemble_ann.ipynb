{
  "nbformat": 4,
  "nbformat_minor": 0,
  "metadata": {
    "colab": {
      "provenance": [],
      "machine_shape": "hm"
    },
    "kernelspec": {
      "name": "python3",
      "display_name": "Python 3"
    },
    "language_info": {
      "name": "python"
    },
    "gpuClass": "standard"
  },
  "cells": [
    {
      "cell_type": "markdown",
      "source": [
        "This notebook Creates an ensable neural network given keras model, with the possibility of evaluation using: F1 scores, Accuracy, Confusion matrix"
      ],
      "metadata": {
        "id": "Jlf4hLavDswo"
      }
    },
    {
      "cell_type": "code",
      "source": [
        "import tensorflow as tf\n",
        "import tensorflow.keras as tfk\n",
        "from sklearn.metrics import ConfusionMatrixDisplay\n",
        "from sklearn.metrics import confusion_matrix, f1_score, accuracy_score\n",
        "import matplotlib.pyplot as plt\n",
        "import numpy as np\n",
        "import os\n",
        "import random"
      ],
      "metadata": {
        "id": "rfYZ6Fdlv9DM"
      },
      "execution_count": null,
      "outputs": []
    },
    {
      "cell_type": "code",
      "execution_count": null,
      "metadata": {
        "colab": {
          "base_uri": "https://localhost:8080/"
        },
        "id": "JsCXZL76rUPk",
        "outputId": "8e4a10d9-65ba-4810-b2cd-af3a28f4ed98"
      },
      "outputs": [
        {
          "output_type": "stream",
          "name": "stdout",
          "text": [
            "Mounted at /gdrive\n"
          ]
        }
      ],
      "source": [
        "from google.colab import drive\n",
        "drive.mount('/gdrive')"
      ]
    },
    {
      "cell_type": "code",
      "source": [
        "def show_confusion(model, validation_dataset):\n",
        "  Y_pred = model.predict(validation_dataset)\n",
        "  y_pred = np.argmax(Y_pred, axis=1)\n",
        "  y_test= np.concatenate([np.argmax(y, axis=1) for x, y in validation_dataset], axis=0)\n",
        "\n",
        "  cm = confusion_matrix(y_test, y_pred)\n",
        "\n",
        "  disp = ConfusionMatrixDisplay(confusion_matrix=cm)\n",
        "\n",
        "  disp.plot(cmap=plt.cm.Blues)\n",
        "  plt.show()\n",
        "\n",
        "  f1_scores = f1_score(y_test, y_pred, average=None)\n",
        "  mean_f1 = np.mean(f1_scores)\n",
        "\n",
        "  print(f\"\\nF1 scores: {f1_scores}\")\n",
        "  print(f\"\\nMean F1 : {mean_f1}\")\n",
        "  print(f\"\\nAccuracy : {accuracy_score(y_test, y_pred)}\")"
      ],
      "metadata": {
        "id": "wziZmdytzUWL"
      },
      "execution_count": null,
      "outputs": []
    },
    {
      "cell_type": "code",
      "execution_count": null,
      "metadata": {
        "id": "ZsR2QzqkN280"
      },
      "outputs": [],
      "source": [
        "# Random seed for reproducibility\n",
        "seed = 44\n",
        "\n",
        "random.seed(seed)\n",
        "os.environ['PYTHONHASHSEED'] = str(seed)\n",
        "np.random.seed(seed)\n",
        "tf.random.set_seed(seed)\n",
        "tf.compat.v1.set_random_seed(seed)"
      ]
    },
    {
      "cell_type": "code",
      "execution_count": null,
      "metadata": {
        "id": "34LvQl5sSdP3"
      },
      "outputs": [],
      "source": [
        "# Dataset folders \n",
        "dataset_dir = '../gdrive/MyDrive/ann_dataset'\n",
        "dataset_folder = os.path.join(dataset_dir, 'ann_dataset')\n",
        "\n",
        "test_folder = os.path.join(dataset_dir, 'test')\n",
        "train_folder = os.path.join(dataset_dir, 'train')"
      ]
    },
    {
      "cell_type": "code",
      "source": [
        "  batch_size = 64\n",
        "  train_dataset = tfk.utils.image_dataset_from_directory(\n",
        "      directory=train_folder,\n",
        "      labels=\"inferred\",\n",
        "      label_mode=\"categorical\",\n",
        "      color_mode='rgb',\n",
        "      image_size=(96,96),\n",
        "      batch_size=batch_size\n",
        "  )\n",
        "  validation_dataset = tfk.utils.image_dataset_from_directory(\n",
        "      directory=test_folder,\n",
        "      labels=\"inferred\",\n",
        "      label_mode=\"categorical\",\n",
        "      color_mode='rgb',\n",
        "      image_size=(96,96),\n",
        "  )\n",
        "  AUTOTUNE = tf.data.AUTOTUNE\n",
        "  train_dataset = train_dataset.cache().prefetch(buffer_size=AUTOTUNE)\n",
        "  validation_dataset = validation_dataset.cache().prefetch(buffer_size=AUTOTUNE)"
      ],
      "metadata": {
        "colab": {
          "base_uri": "https://localhost:8080/"
        },
        "id": "dd4qB4URyCKh",
        "outputId": "e79ee2eb-ef37-4e5a-f631-e55715ffc90f"
      },
      "execution_count": null,
      "outputs": [
        {
          "output_type": "stream",
          "name": "stdout",
          "text": [
            "Found 3624 files belonging to 8 classes.\n",
            "Found 719 files belonging to 8 classes.\n"
          ]
        }
      ]
    },
    {
      "cell_type": "code",
      "source": [
        "!unzip ../gdrive/MyDrive/Ann_Challenge/Experiments/Model090B.zip"
      ],
      "metadata": {
        "colab": {
          "base_uri": "https://localhost:8080/"
        },
        "id": "fE5x1wAtwdyM",
        "outputId": "5950d6cc-4fdd-4120-bc30-037779538242"
      },
      "execution_count": null,
      "outputs": [
        {
          "output_type": "stream",
          "name": "stdout",
          "text": [
            "Archive:  ../gdrive/MyDrive/Ann_Challenge/Experiments/Model090B.zip\n",
            "   creating: Model_name16691203880.904/\n",
            "  inflating: Model_name16691203880.904/saved_model.pb  \n",
            "   creating: Model_name16691203880.904/variables/\n",
            "  inflating: Model_name16691203880.904/variables/variables.data-00000-of-00001  \n",
            "  inflating: Model_name16691203880.904/variables/variables.index  \n",
            "  inflating: Model_name16691203880.904/keras_metadata.pb  \n",
            "   creating: Model_name16691203880.904/assets/\n"
          ]
        }
      ]
    },
    {
      "cell_type": "code",
      "source": [
        "!unzip ../gdrive/MyDrive/Ann_Challenge/Experiments/Model090A.zip"
      ],
      "metadata": {
        "colab": {
          "base_uri": "https://localhost:8080/"
        },
        "id": "8MVI_EY2xF9e",
        "outputId": "3680bedc-5b21-4c8b-c23a-21d0d9a81932"
      },
      "execution_count": null,
      "outputs": [
        {
          "output_type": "stream",
          "name": "stdout",
          "text": [
            "Archive:  ../gdrive/MyDrive/Ann_Challenge/Experiments/Model090A.zip\n",
            "   creating: Model_name16691224010.9054/\n",
            "  inflating: Model_name16691224010.9054/saved_model.pb  \n",
            "   creating: Model_name16691224010.9054/variables/\n",
            "  inflating: Model_name16691224010.9054/variables/variables.data-00000-of-00001  \n",
            "  inflating: Model_name16691224010.9054/variables/variables.index  \n",
            "  inflating: Model_name16691224010.9054/keras_metadata.pb  \n",
            "   creating: Model_name16691224010.9054/assets/\n"
          ]
        }
      ]
    },
    {
      "cell_type": "code",
      "source": [
        "!unzip ../gdrive/MyDrive/Ann_Challenge/Experiments/Model90C.zip"
      ],
      "metadata": {
        "colab": {
          "base_uri": "https://localhost:8080/"
        },
        "id": "BbZJzcCA7QGH",
        "outputId": "04c860f4-b769-46ad-9457-3c531fe07ba5"
      },
      "execution_count": null,
      "outputs": [
        {
          "output_type": "stream",
          "name": "stdout",
          "text": [
            "Archive:  ../gdrive/MyDrive/Ann_Challenge/Experiments/Model90C.zip\n",
            "   creating: Model_name1669066256/\n",
            "  inflating: Model_name1669066256/saved_model.pb  \n",
            "   creating: Model_name1669066256/variables/\n",
            "  inflating: Model_name1669066256/variables/variables.data-00000-of-00001  \n",
            "  inflating: Model_name1669066256/variables/variables.index  \n",
            "  inflating: Model_name1669066256/keras_metadata.pb  \n",
            "   creating: Model_name1669066256/assets/\n"
          ]
        }
      ]
    },
    {
      "cell_type": "code",
      "source": [
        "!unzip ../gdrive/MyDrive/Ann_Challenge/Experiments/Model_zip_8846.zip"
      ],
      "metadata": {
        "colab": {
          "base_uri": "https://localhost:8080/"
        },
        "id": "8sg7kU2ib6yA",
        "outputId": "4bd304e3-f5ea-4050-9721-e37baea473c0"
      },
      "execution_count": null,
      "outputs": [
        {
          "output_type": "stream",
          "name": "stdout",
          "text": [
            "Archive:  ../gdrive/MyDrive/Ann_Challenge/Experiments/Model_zip_8846.zip\n",
            "replace Model_name16692154860.8846/variables/variables.index? [y]es, [n]o, [A]ll, [N]one, [r]ename: "
          ]
        }
      ]
    },
    {
      "cell_type": "code",
      "source": [
        "!unzip ../gdrive/MyDrive/Ann_Challenge/Experiments/Model088.zip"
      ],
      "metadata": {
        "id": "U1r_04gpBhAl"
      },
      "execution_count": null,
      "outputs": []
    },
    {
      "cell_type": "code",
      "source": [
        "models = []"
      ],
      "metadata": {
        "id": "rXdFmcwP78NU"
      },
      "execution_count": null,
      "outputs": []
    },
    {
      "cell_type": "code",
      "source": [
        "model_a = tf.keras.models.load_model('Model_name16691203880.904')\n",
        "model_b = tf.keras.models.load_model('Model_name16691224010.9054')\n",
        "model_c = tf.keras.models.load_model('Model_name1669066256')"
      ],
      "metadata": {
        "id": "5XIL4fQVv1Bb"
      },
      "execution_count": null,
      "outputs": []
    },
    {
      "cell_type": "code",
      "source": [
        "model_d = tf.keras.models.load_model('Model_name16692154860.8846')"
      ],
      "metadata": {
        "id": "qFjXm9vFcCDq"
      },
      "execution_count": null,
      "outputs": []
    },
    {
      "cell_type": "code",
      "source": [
        "# add here model to ensable\n",
        "models = [model_a, model_b, model_c]"
      ],
      "metadata": {
        "id": "IKkLDt8J73jy"
      },
      "execution_count": null,
      "outputs": []
    },
    {
      "cell_type": "code",
      "source": [
        "show_confusion(model_d, validation_dataset)"
      ],
      "metadata": {
        "colab": {
          "base_uri": "https://localhost:8080/",
          "height": 424
        },
        "id": "V7bslod2chSq",
        "outputId": "5a7123fd-9a39-4519-dda6-a3cbf5e8d891"
      },
      "execution_count": null,
      "outputs": [
        {
          "output_type": "stream",
          "name": "stdout",
          "text": [
            "23/23 [==============================] - 216s 6s/step\n"
          ]
        },
        {
          "output_type": "display_data",
          "data": {
            "text/plain": [
              "<Figure size 432x288 with 2 Axes>"
            ],
            "image/png": "[encoded data removed]"
          },
          "metadata": {
            "needs_background": "light"
          }
        },
        {
          "output_type": "stream",
          "name": "stdout",
          "text": [
            "\n",
            "F1 scores: [0.57692308 0.87659574 0.93043478 0.88888889 0.92116183 0.91666667\n",
            " 0.93103448 0.82568807]\n",
            "\n",
            "Mean F1 : 0.8584241927059295\n",
            "\n",
            "Accuracy : 0.8845618915159944\n"
          ]
        }
      ]
    },
    {
      "cell_type": "code",
      "source": [
        "show_confusion(model_a, validation_dataset)"
      ],
      "metadata": {
        "colab": {
          "base_uri": "https://localhost:8080/",
          "height": 424
        },
        "id": "f8GDj7OLx3nr",
        "outputId": "3c7be5d7-a637-4d7e-9286-7181901da5ba"
      },
      "execution_count": null,
      "outputs": [
        {
          "output_type": "stream",
          "name": "stdout",
          "text": [
            "23/23 [==============================] - 27s 996ms/step\n"
          ]
        },
        {
          "output_type": "display_data",
          "data": {
            "text/plain": [
              "<Figure size 432x288 with 2 Axes>"
            ],
            "image/png": "[encoded data removed]"
          },
          "metadata": {
            "needs_background": "light"
          }
        },
        {
          "output_type": "stream",
          "name": "stdout",
          "text": [
            "\n",
            "F1 scores: [0.6122449  0.87336245 0.93449782 0.9058296  0.95798319 0.91891892\n",
            " 0.93103448 0.88288288]\n",
            "\n",
            "Mean F1 : 0.8770942792772758\n",
            "\n",
            "Accuracy : 0.9040333796940194\n"
          ]
        }
      ]
    },
    {
      "cell_type": "code",
      "source": [
        "show_confusion(model_b, validation_dataset)"
      ],
      "metadata": {
        "colab": {
          "base_uri": "https://localhost:8080/",
          "height": 424
        },
        "id": "ouMjUfLrycel",
        "outputId": "b4523847-9814-45cd-ce9e-794e21bf50aa"
      },
      "execution_count": null,
      "outputs": [
        {
          "output_type": "stream",
          "name": "stdout",
          "text": [
            "23/23 [==============================] - 27s 1s/step\n"
          ]
        },
        {
          "output_type": "display_data",
          "data": {
            "text/plain": [
              "<Figure size 432x288 with 2 Axes>"
            ],
            "image/png": "[encoded data removed]"
          },
          "metadata": {
            "needs_background": "light"
          }
        },
        {
          "output_type": "stream",
          "name": "stdout",
          "text": [
            "\n",
            "F1 scores: [0.66666667 0.88235294 0.95535714 0.92857143 0.9539749  0.91891892\n",
            " 0.96470588 0.82233503]\n",
            "\n",
            "Mean F1 : 0.8866103626652211\n",
            "\n",
            "Accuracy : 0.9054242002781642\n"
          ]
        }
      ]
    },
    {
      "cell_type": "code",
      "source": [
        "show_confusion(model_c, validation_dataset)"
      ],
      "metadata": {
        "colab": {
          "base_uri": "https://localhost:8080/",
          "height": 424
        },
        "id": "nbV7SzSa7wCJ",
        "outputId": "a6a76586-0307-4155-d55b-7bb0fa1f1193"
      },
      "execution_count": null,
      "outputs": [
        {
          "output_type": "stream",
          "name": "stdout",
          "text": [
            "23/23 [==============================] - 27s 1s/step\n"
          ]
        },
        {
          "output_type": "display_data",
          "data": {
            "text/plain": [
              "<Figure size 432x288 with 2 Axes>"
            ],
            "image/png": "[encoded data removed]"
          },
          "metadata": {
            "needs_background": "light"
          }
        },
        {
          "output_type": "stream",
          "name": "stdout",
          "text": [
            "\n",
            "F1 scores: [0.61016949 0.90128755 0.94372294 0.8959276  0.92173913 0.94594595\n",
            " 0.95953757 0.86635945]\n",
            "\n",
            "Mean F1 : 0.8805862107932579\n",
            "\n",
            "Accuracy : 0.9026425591098748\n"
          ]
        }
      ]
    },
    {
      "cell_type": "code",
      "execution_count": null,
      "metadata": {
        "id": "94oediaevqTa"
      },
      "outputs": [],
      "source": [
        "for i,m in enumerate(models):\n",
        "  m._name = f\"{m.name}{i}\" \n",
        "model_input = tf.keras.Input(shape=(96, 96, 3))\n",
        "model_outputs = [model(model_input) for model in models]\n",
        "ensemble_output = tf.keras.layers.Average()(model_outputs)\n",
        "ensemble_model = tf.keras.Model(inputs=model_input, outputs=ensemble_output)"
      ]
    },
    {
      "cell_type": "code",
      "source": [
        "show_confusion(ensemble_model, validation_dataset)"
      ],
      "metadata": {
        "colab": {
          "base_uri": "https://localhost:8080/",
          "height": 424
        },
        "id": "R8CJofbj06dO",
        "outputId": "ac92b1a7-dccc-44c9-dfd1-08b567f996ea"
      },
      "execution_count": null,
      "outputs": [
        {
          "output_type": "stream",
          "name": "stdout",
          "text": [
            "23/23 [==============================] - 105s 4s/step\n"
          ]
        },
        {
          "output_type": "display_data",
          "data": {
            "text/plain": [
              "<Figure size 432x288 with 2 Axes>"
            ],
            "image/png": "[encoded data removed]"
          },
          "metadata": {
            "needs_background": "light"
          }
        },
        {
          "output_type": "stream",
          "name": "stdout",
          "text": [
            "\n",
            "F1 scores: [0.64150943 0.90295359 0.96035242 0.91479821 0.95798319 0.93150685\n",
            " 0.95953757 0.85981308]\n",
            "\n",
            "Mean F1 : 0.8910567935755668\n",
            "\n",
            "Accuracy : 0.9151599443671766\n"
          ]
        }
      ]
    },
    {
      "cell_type": "code",
      "source": [
        "ensemble_model.summary()"
      ],
      "metadata": {
        "colab": {
          "base_uri": "https://localhost:8080/"
        },
        "id": "9VL93RkS9BNk",
        "outputId": "37fb68b4-c68f-4255-e979-d64b96d3df72"
      },
      "execution_count": null,
      "outputs": [
        {
          "output_type": "stream",
          "name": "stdout",
          "text": [
            "Model: \"model\"\n",
            "__________________________________________________________________________________________________\n",
            " Layer (type)                   Output Shape         Param #     Connected to                     \n",
            "==================================================================================================\n",
            " input_1 (InputLayer)           [(None, 96, 96, 3)]  0           []                               \n",
            "                                                                                                  \n",
            " model0 (Functional)            (None, 8)            18134887    ['input_1[0][0]']                \n",
            "                                                                                                  \n",
            " model1 (Functional)            (None, 8)            18134887    ['input_1[0][0]']                \n",
            "                                                                                                  \n",
            " model2 (Functional)            (None, 8)            17688167    ['input_1[0][0]']                \n",
            "                                                                                                  \n",
            " average (Average)              (None, 8)            0           ['model0[0][0]',                 \n",
            "                                                                  'model1[0][0]',                 \n",
            "                                                                  'model2[0][0]']                 \n",
            "                                                                                                  \n",
            "==================================================================================================\n",
            "Total params: 53,957,941\n",
            "Trainable params: 53,193,796\n",
            "Non-trainable params: 764,145\n",
            "__________________________________________________________________________________________________\n"
          ]
        }
      ]
    },
    {
      "cell_type": "code",
      "source": [
        "%load_ext cython"
      ],
      "metadata": {
        "id": "qtGDMI9_NFsJ"
      },
      "execution_count": null,
      "outputs": []
    },
    {
      "cell_type": "code",
      "source": [
        "model_c.summary()"
      ],
      "metadata": {
        "colab": {
          "base_uri": "https://localhost:8080/"
        },
        "id": "pzHR5qDxQQSA",
        "outputId": "c8aeac6b-a872-47a4-fb97-4b5958d8074c"
      },
      "execution_count": null,
      "outputs": [
        {
          "output_type": "stream",
          "name": "stdout",
          "text": [
            "Model: \"model2\"\n",
            "_________________________________________________________________\n",
            " Layer (type)                Output Shape              Param #   \n",
            "=================================================================\n",
            " input_16 (InputLayer)       [(None, 96, 96, 3)]       0         \n",
            "                                                                 \n",
            " sequential_7 (Sequential)   (None, 96, 96, 3)         0         \n",
            "                                                                 \n",
            " efficientnetb4 (Functional)  (None, 3, 3, 1792)       17673823  \n",
            "                                                                 \n",
            " global_average_pooling2d_7   (None, 1792)             0         \n",
            " (GlobalAveragePooling2D)                                        \n",
            "                                                                 \n",
            " dense_7 (Dense)             (None, 8)                 14344     \n",
            "                                                                 \n",
            "=================================================================\n",
            "Total params: 17,688,167\n",
            "Trainable params: 17,433,452\n",
            "Non-trainable params: 254,715\n",
            "_________________________________________________________________\n"
          ]
        }
      ]
    },
    {
      "cell_type": "code",
      "source": [
        "%%cython\n",
        "from __main__ import ensemble_model\n",
        "ensemble_model.save(\"ensabled_abc\")"
      ],
      "metadata": {
        "colab": {
          "base_uri": "https://localhost:8080/"
        },
        "id": "YG7_0cCrFBZj",
        "outputId": "f320dfba-d290-4ffe-8621-45ecc91cdbd1"
      },
      "execution_count": null,
      "outputs": [
        {
          "output_type": "stream",
          "name": "stderr",
          "text": [
            "WARNING:tensorflow:Compiled the loaded model, but the compiled metrics have yet to be built. `model.compile_metrics` will be empty until you train or evaluate the model.\n",
            "WARNING:absl:Found untraced functions such as _jit_compiled_convolution_op, _jit_compiled_convolution_op, _jit_compiled_convolution_op, _jit_compiled_convolution_op, _jit_compiled_convolution_op while saving (showing 5 of 480). These functions will not be directly callable after loading.\n"
          ]
        }
      ]
    },
    {
      "cell_type": "code",
      "source": [
        "from google.colab import files"
      ],
      "metadata": {
        "id": "AAOkXJlhErHp"
      },
      "execution_count": null,
      "outputs": []
    },
    {
      "cell_type": "code",
      "source": [
        "files.download(\"./ensabled_abc/\")"
      ],
      "metadata": {
        "id": "foFbrMh9EyE0"
      },
      "execution_count": null,
      "outputs": []
    },
    {
      "cell_type": "code",
      "source": [
        "!zip -r ../gdrive/MyDrive/Ann_Challenge/Experiments/ensable.zip ./ensabled_abc "
      ],
      "metadata": {
        "colab": {
          "base_uri": "https://localhost:8080/"
        },
        "id": "VcfeOkATRWJ9",
        "outputId": "6c14fd5a-f413-49a0-c045-87dde6a34489"
      },
      "execution_count": null,
      "outputs": [
        {
          "output_type": "stream",
          "name": "stdout",
          "text": [
            "  adding: ensabled_abc/ (stored 0%)\n",
            "  adding: ensabled_abc/variables/ (stored 0%)\n",
            "  adding: ensabled_abc/variables/variables.data-00000-of-00001 (deflated 8%)\n",
            "  adding: ensabled_abc/variables/variables.index (deflated 77%)\n",
            "  adding: ensabled_abc/keras_metadata.pb (deflated 96%)\n",
            "  adding: ensabled_abc/saved_model.pb (deflated 92%)\n",
            "  adding: ensabled_abc/assets/ (stored 0%)\n"
          ]
        }
      ]
    },
    {
      "cell_type": "code",
      "source": [
        "files.download(\"./ensable.zip\")"
      ],
      "metadata": {
        "colab": {
          "base_uri": "https://localhost:8080/",
          "height": 34
        },
        "id": "JfpN-QPDRwxm",
        "outputId": "f82ef159-05f5-4760-ed02-aee977158413"
      },
      "execution_count": null,
      "outputs": [
        {
          "output_type": "display_data",
          "data": {
            "text/plain": [
              "<IPython.core.display.Javascript object>"
            ],
            "application/javascript": [
              "\n",
              "    async function download(id, filename, size) {\n",
              "      if (!google.colab.kernel.accessAllowed) {\n",
              "        return;\n",
              "      }\n",
              "      const div = document.createElement('div');\n",
              "      const label = document.createElement('label');\n",
              "      label.textContent = `Downloading \"${filename}\": `;\n",
              "      div.appendChild(label);\n",
              "      const progress = document.createElement('progress');\n",
              "      progress.max = size;\n",
              "      div.appendChild(progress);\n",
              "      document.body.appendChild(div);\n",
              "\n",
              "      const buffers = [];\n",
              "      let downloaded = 0;\n",
              "\n",
              "      const channel = await google.colab.kernel.comms.open(id);\n",
              "      // Send a message to notify the kernel that we're ready.\n",
              "      channel.send({})\n",
              "\n",
              "      for await (const message of channel.messages) {\n",
              "        // Send a message to notify the kernel that we're ready.\n",
              "        channel.send({})\n",
              "        if (message.buffers) {\n",
              "          for (const buffer of message.buffers) {\n",
              "            buffers.push(buffer);\n",
              "            downloaded += buffer.byteLength;\n",
              "            progress.value = downloaded;\n",
              "          }\n",
              "        }\n",
              "      }\n",
              "      const blob = new Blob(buffers, {type: 'application/binary'});\n",
              "      const a = document.createElement('a');\n",
              "      a.href = window.URL.createObjectURL(blob);\n",
              "      a.download = filename;\n",
              "      div.appendChild(a);\n",
              "      a.click();\n",
              "      div.remove();\n",
              "    }\n",
              "  "
            ]
          },
          "metadata": {}
        },
        {
          "output_type": "display_data",
          "data": {
            "text/plain": [
              "<IPython.core.display.Javascript object>"
            ],
            "application/javascript": [
              "download(\"download_c08cd699-13e1-4edd-90af-161f0c081897\", \"ensable.zip\", 204278217)"
            ]
          },
          "metadata": {}
        }
      ]
    }
  ]
}