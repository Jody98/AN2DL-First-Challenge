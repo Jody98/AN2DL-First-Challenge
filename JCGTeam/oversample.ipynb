{
  "cells": [
    {
      "cell_type": "markdown",
      "source": [
        "# Offline Oversampling\n",
        "this code is meant to work offline, it computes the most frequent class and oversample with replacement all the others"
      ],
      "metadata": {
        "id": "SvrXNvN-GrB_"
      }
    },
    {
      "cell_type": "markdown",
      "source": [
        "How to use it:\n",
        "1) move the folder of this notebook \"Oversampling_offine\" in the same directory of the directory with the dataset\n",
        "2) directory with the dataset should be called \"training_data_final\"\n",
        "3) create a repository \"training_data_final_oversampled\" at the same level of \"training_data_final\", inside this new directory create 2 empty directory test and train\n",
        "4) run all on the script"
      ],
      "metadata": {
        "collapsed": false,
        "id": "Oa_fbcBqGn-Q"
      }
    },
    {
      "cell_type": "code",
      "execution_count": null,
      "metadata": {
        "collapsed": true,
        "id": "rBpsNfZHGn-T"
      },
      "outputs": [],
      "source": [
        "import os\n",
        "import numpy as np\n",
        "from shutil import copyfile, copy"
      ]
    },
    {
      "cell_type": "code",
      "execution_count": null,
      "outputs": [],
      "source": [
        "# Create train test split\n",
        "base = \"../training_data_final\"\n",
        "base_train = \"../training_data_final_oversampled/train\"\n",
        "base_test= \"../training_data_final_oversampled/test\"\n",
        "\n",
        "for f in os.listdir(base):\n",
        "    dir_path = os.path.join(base, f)\n",
        "    list_images = np.array(os.listdir(dir_path))\n",
        "    n_images = len(list_images)\n",
        "    train_mask = np.random.choice([True, False],n_images,p=[0.8, 0.2])\n",
        "    train_images = list_images[train_mask]\n",
        "    test_images = list_images[np.logical_not(train_mask)]\n",
        "\n",
        "    for img_name in train_images:\n",
        "        old_path = os.path.join(dir_path, img_name)\n",
        "        new_path = os.path.join(base_train, f, img_name)\n",
        "        if not os.path.exists(os.path.join(base_train, f)):\n",
        "            os.mkdir(os.path.join(base_train, f))\n",
        "        copyfile(old_path, new_path)\n",
        "\n",
        "    for img_name in test_images:\n",
        "        old_path = os.path.join(dir_path, img_name)\n",
        "        new_path = os.path.join(base_test, f, img_name)\n",
        "        if not os.path.exists(os.path.join(base_test, f)):\n",
        "            os.mkdir(os.path.join(base_test, f))\n",
        "        copyfile(old_path, new_path)"
      ],
      "metadata": {
        "id": "hS4zsmLyGn-V"
      }
    },
    {
      "cell_type": "code",
      "execution_count": null,
      "outputs": [],
      "source": [
        "# get all lengths\n",
        "base = base_train\n",
        "lengths = []\n",
        "for f in os.listdir(base):\n",
        "    dir_path = os.path.join(base, f)\n",
        "    list_images = np.array(os.listdir(dir_path))\n",
        "    lengths.append(len(list_images))"
      ],
      "metadata": {
        "id": "Dbb_yE2oGn-W"
      }
    },
    {
      "cell_type": "code",
      "execution_count": null,
      "outputs": [
        {
          "data": {
            "text/plain": "[153, 418, 404, 401, 411, 184, 453, 399]"
          },
          "execution_count": 4,
          "metadata": {},
          "output_type": "execute_result"
        }
      ],
      "source": [
        "lengths"
      ],
      "metadata": {
        "id": "d99QEF42Gn-W",
        "outputId": "c339064f-15d1-4b56-9c92-27316223a794"
      }
    },
    {
      "cell_type": "code",
      "execution_count": null,
      "outputs": [
        {
          "data": {
            "text/plain": "453"
          },
          "execution_count": 5,
          "metadata": {},
          "output_type": "execute_result"
        }
      ],
      "source": [
        "max_length = np.max(lengths)\n",
        "max_length"
      ],
      "metadata": {
        "id": "R894Jd5lGn-X",
        "outputId": "26a44215-ab16-46ec-9ce1-d651700a21ca"
      }
    },
    {
      "cell_type": "code",
      "execution_count": null,
      "outputs": [],
      "source": [
        "# perform oversampling\n",
        "for f in os.listdir(base):\n",
        "    dir_path = os.path.join(base, f)\n",
        "    list_images = np.array(os.listdir(dir_path))\n",
        "    length = len(list_images)\n",
        "    difference = max_length - length\n",
        "    new_items_mask = np.random.choice(range(len(list_images)),difference)\n",
        "    items_to_copy = list_images[new_items_mask]\n",
        "\n",
        "    if difference != 0:\n",
        "        for img_name in items_to_copy:\n",
        "            new_img_name = str(np.random.randint(1, 100000000)) + img_name\n",
        "            old_path = os.path.join(dir_path, img_name)\n",
        "            new_path = os.path.join(dir_path, new_img_name)\n",
        "            copy(old_path, new_path)\n"
      ],
      "metadata": {
        "id": "_4Tmi4TfGn-Y"
      }
    },
    {
      "cell_type": "code",
      "execution_count": null,
      "outputs": [],
      "source": [],
      "metadata": {
        "id": "cphQRcL8Gn-Z"
      }
    }
  ],
  "metadata": {
    "kernelspec": {
      "display_name": "Python 3",
      "language": "python",
      "name": "python3"
    },
    "language_info": {
      "codemirror_mode": {
        "name": "ipython",
        "version": 2
      },
      "file_extension": ".py",
      "mimetype": "text/x-python",
      "name": "python",
      "nbconvert_exporter": "python",
      "pygments_lexer": "ipython2",
      "version": "2.7.6"
    },
    "colab": {
      "provenance": []
    }
  },
  "nbformat": 4,
  "nbformat_minor": 0
}